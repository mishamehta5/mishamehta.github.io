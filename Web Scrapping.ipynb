{
 "cells": [
  {
   "cell_type": "code",
   "execution_count": 2,
   "metadata": {},
   "outputs": [
    {
     "name": "stdout",
     "output_type": "stream",
     "text": [
      "https://www.amazon.in/ No\n",
      "https://www.amazon.in/your-account No\n",
      "https://www.amazon.in/gp/site-directory No\n",
      "https://www.paypal.com/in/home Yes\n",
      "https://www.amazon.in/mobile-phones/b?ie=UTF8&node=1389401031 No\n",
      "https://www.binance.com/en Yes\n",
      "https://www.amazon.in/electronics/b?ie=UTF8&node=976419031 No\n",
      "https://mahirjhaveri.github.io/ Yes\n",
      "https://www.amazon.in/gp/prime/pipeline/landing?ie=UTF8&ref_=nav_prime_try_btn No\n"
     ]
    }
   ],
   "source": [
    "from bs4 import BeautifulSoup\n",
    "import requests\n",
    "\n",
    "links = []\n",
    "file1 = open('link.txt', 'r')\n",
    "Lines = file1.readlines()\n",
    "\n",
    "for line in Lines:\n",
    "    links.append(line.strip())\n",
    "links = links[:9]\n",
    "#print(links)\n",
    "\n",
    "for i in links:\n",
    "    r = requests.get(i).text\n",
    "    #source = requests.get(i)\n",
    "    soup = BeautifulSoup(r, 'lxml')\n",
    "\n",
    "    #print(soup.prettify())\n",
    "    match1 = soup.prettify().find('gtag.js')\n",
    "    match2 = soup.prettify().find('analytics.js')\n",
    "    match3 = soup.prettify().find('analytics')\n",
    "\n",
    "    if match1 == -1 and match2 == -1 and match3 == -1 :\n",
    "        x = \"No\"\n",
    "    else:\n",
    "        x = \"Yes\"\n",
    "    print(i,x)"
   ]
  },
  {
   "cell_type": "code",
   "execution_count": null,
   "metadata": {},
   "outputs": [],
   "source": []
  }
 ],
 "metadata": {
  "kernelspec": {
   "display_name": "Python 3",
   "language": "python",
   "name": "python3"
  },
  "language_info": {
   "codemirror_mode": {
    "name": "ipython",
    "version": 3
   },
   "file_extension": ".py",
   "mimetype": "text/x-python",
   "name": "python",
   "nbconvert_exporter": "python",
   "pygments_lexer": "ipython3",
   "version": "3.7.3"
  }
 },
 "nbformat": 4,
 "nbformat_minor": 2
}
